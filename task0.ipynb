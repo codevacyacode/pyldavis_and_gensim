{
 "cells": [
  {
   "cell_type": "code",
   "execution_count": 5,
   "metadata": {},
   "outputs": [
    {
     "name": "stdout",
     "output_type": "stream",
     "text": [
      "['Библиотека' 'Россия' 'Мир' 'Экономика' 'Интернет и СМИ' 'Спорт'\n",
      " 'Культура' 'Из жизни' 'Силовые структуры' 'Наука и техника' 'Бывший СССР'\n",
      " nan 'Дом' 'Сочи' 'ЧМ-2014' 'Путешествия' 'Ценности' 'Легпром' 'Бизнес'\n",
      " 'МедНовости' 'Оружие' '69-я параллель' 'Культпросвет ' 'Крым']\n"
     ]
    },
    {
     "data": {
      "text/plain": [
       "'\\n# конвертировать в список\\ndata = df.content.values.tolist()\\n\\n# удалить эл. адреса\\ndata = [re.sub(\\'\\\\S*@\\\\S*\\\\s?\\', \\'\\', sent) for sent in data]\\n\\n# удалить символы новой строки\\ndata = [re.sub(\\'\\\\s+\\', \\' \\', sent) for sent in data]\\n\\n# удалить одинарные кавычки\\ndata = [re.sub(\"\\'\", \"\", sent) for sent in data]\\n\\npprint(data[:1])'"
      ]
     },
     "execution_count": 5,
     "metadata": {},
     "output_type": "execute_result"
    }
   ],
   "source": [
    "import re\n",
    "import numpy as np\n",
    "import pandas as pd\n",
    "from pprint import pprint\n",
    "\n",
    "# Gensim\n",
    "import gensim\n",
    "import gensim.corpora as corpora\n",
    "from gensim.utils import simple_preprocess\n",
    "from gensim.models import CoherenceModel\n",
    "\n",
    "# для лемматизации\n",
    "import spacy\n",
    "\n",
    "# графики\n",
    "import pyLDAvis\n",
    "import pyLDAvis.gensim\n",
    "import matplotlib.pyplot as plt\n",
    "%matplotlib inline\n",
    "\n",
    "# Enable logging for gensim - optional\n",
    "import logging\n",
    "logging.basicConfig(format='%(asctime)s : %(levelname)s : %(message)s', level=logging.ERROR)\n",
    "\n",
    "import warnings\n",
    "warnings.filterwarnings('ignore',category=DeprecationWarning)\n",
    "\n",
    "from nltk.corpus import stopwords\n",
    "#nltk.download('stopwords')\n",
    "#from nltk.corpus import stopwords\n",
    "stop_words = stopwords.words('russian')\n",
    "#stop_words.extend(['from', 'subject', 're', 'edu', 'use'])\n",
    "\n",
    "# импорт датасета\n",
    "df = pd.read_csv('C:\\\\Users\\\\vinov\\\\OneDrive\\\\Документы\\\\Универ\\\\Диплом\\\\Код\\\\archive\\\\lenta-ru-news.csv', low_memory=False)\n",
    "#print(df.topic.unique())\n",
    "df.head()\n",
    "\"\"\"\n",
    "# конвертировать в список\n",
    "data = df.content.values.tolist()\n",
    "\n",
    "# удалить эл. адреса\n",
    "data = [re.sub('\\S*@\\S*\\s?', '', sent) for sent in data]\n",
    "\n",
    "# удалить символы новой строки\n",
    "data = [re.sub('\\s+', ' ', sent) for sent in data]\n",
    "\n",
    "# удалить одинарные кавычки\n",
    "data = [re.sub(\"\\'\", \"\", sent) for sent in data]\n",
    "\n",
    "pprint(data[:1])\"\"\""
   ]
  },
  {
   "cell_type": "code",
   "execution_count": null,
   "metadata": {},
   "outputs": [],
   "source": []
  }
 ],
 "metadata": {
  "kernelspec": {
   "display_name": "Python 3",
   "language": "python",
   "name": "python3"
  },
  "language_info": {
   "codemirror_mode": {
    "name": "ipython",
    "version": 3
   },
   "file_extension": ".py",
   "mimetype": "text/x-python",
   "name": "python",
   "nbconvert_exporter": "python",
   "pygments_lexer": "ipython3",
   "version": "3.7.8"
  }
 },
 "nbformat": 4,
 "nbformat_minor": 4
}
